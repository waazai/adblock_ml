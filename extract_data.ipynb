{
 "cells": [
  {
   "cell_type": "code",
   "execution_count": 2,
   "metadata": {},
   "outputs": [],
   "source": [
    "\n",
    "import os\n",
    "import json\n",
    "\n",
    "domain_path = \"domains/US\"\n",
    "json_files = []\n",
    "\n",
    "# Walk through the directory and collect all JSON files\n",
    "for root, dirs, files in os.walk(domain_path):\n",
    "    for file in files:\n",
    "        if file.endswith('.json'):\n",
    "            file_path = os.path.join(root, file)\n",
    "            with open(file_path, 'r', encoding='utf-8') as f:\n",
    "                json_data = json.load(f)\n",
    "                json_files.append(json_data)\n",
    "\n"
   ]
  },
  {
   "cell_type": "code",
   "execution_count": 3,
   "metadata": {},
   "outputs": [
    {
     "data": {
      "text/plain": [
       "24497"
      ]
     },
     "execution_count": 3,
     "metadata": {},
     "output_type": "execute_result"
    }
   ],
   "source": [
    "len(json_files)\n"
   ]
  },
  {
   "cell_type": "code",
   "execution_count": 4,
   "metadata": {},
   "outputs": [],
   "source": [
    "# Initialize lists to store the extracted data\n",
    "cnames = []\n",
    "non_cnames = []\n",
    "\n",
    "# Process each JSON file\n",
    "for json_file in json_files:\n",
    "    domain = json_file.get('domain')\n",
    "    \n",
    "    # Get cnames from resources\n",
    "    resources = json_file.get('resources', [])\n",
    "    for i in resources:\n",
    "        rule = i.get('rule', None)\n",
    "        fgpr = i.get('fingerprinting', None)\n",
    "        for j in i.get('cnames', []):\n",
    "            org = j['original']\n",
    "            res = j['resolved']\n",
    "            cnames.append({\n",
    "                'domain': domain,\n",
    "                'rule': rule,\n",
    "                'fingerprint': fgpr,\n",
    "                'original': org,\n",
    "                'resolved': res\n",
    "            })\n",
    "        if i.get('cnames', []) == []:\n",
    "            non_cnames.append({\n",
    "                'domain': domain,\n",
    "                'rule': rule,\n",
    "                'fingerprint': fgpr,\n",
    "                'original': None,\n",
    "                'resolved': None\n",
    "            })\n"
   ]
  },
  {
   "cell_type": "code",
   "execution_count": 5,
   "metadata": {},
   "outputs": [
    {
     "name": "stdout",
     "output_type": "stream",
     "text": [
      "85387\n",
      "460051\n"
     ]
    }
   ],
   "source": [
    "print(len(cnames))\n",
    "print(len(non_cnames))\n"
   ]
  },
  {
   "cell_type": "code",
   "execution_count": 6,
   "metadata": {},
   "outputs": [],
   "source": [
    "# Convert the extracted data to a pandas DataFrame\n",
    "import pandas as pd\n",
    "\n",
    "df1 = pd.DataFrame(cnames)\n",
    "df2 = pd.DataFrame(non_cnames)\n"
   ]
  },
  {
   "cell_type": "code",
   "execution_count": 7,
   "metadata": {},
   "outputs": [
    {
     "data": {
      "text/html": [
       "<div>\n",
       "<style scoped>\n",
       "    .dataframe tbody tr th:only-of-type {\n",
       "        vertical-align: middle;\n",
       "    }\n",
       "\n",
       "    .dataframe tbody tr th {\n",
       "        vertical-align: top;\n",
       "    }\n",
       "\n",
       "    .dataframe thead th {\n",
       "        text-align: right;\n",
       "    }\n",
       "</style>\n",
       "<table border=\"1\" class=\"dataframe\">\n",
       "  <thead>\n",
       "    <tr style=\"text-align: right;\">\n",
       "      <th></th>\n",
       "      <th>domain</th>\n",
       "      <th>rule</th>\n",
       "      <th>fingerprint</th>\n",
       "      <th>original</th>\n",
       "      <th>resolved</th>\n",
       "    </tr>\n",
       "  </thead>\n",
       "  <tbody>\n",
       "    <tr>\n",
       "      <th>0</th>\n",
       "      <td>08bca1adcd937acee5c029a1cec0e4b9.edgekey.net</td>\n",
       "      <td>08bca1adcd937acee5c029a1cec0e4b9\\.edgekey\\.net...</td>\n",
       "      <td>0</td>\n",
       "      <td>sli.simonandschuster.com</td>\n",
       "      <td>08bca1adcd937acee5c029a1cec0e4b9.edgekey.net</td>\n",
       "    </tr>\n",
       "    <tr>\n",
       "      <th>1</th>\n",
       "      <td>0d2aa2d5db16270946d663b492be0815.edgekey.net</td>\n",
       "      <td>0d2aa2d5db16270946d663b492be0815\\.edgekey\\.net...</td>\n",
       "      <td>0</td>\n",
       "      <td>sli.timescall.com</td>\n",
       "      <td>0d2aa2d5db16270946d663b492be0815.edgekey.net</td>\n",
       "    </tr>\n",
       "    <tr>\n",
       "      <th>2</th>\n",
       "      <td>0i0i0i0.com</td>\n",
       "      <td>0i0i0i0\\.com\\/QgKhd137\\.js</td>\n",
       "      <td>2</td>\n",
       "      <td>x9ner.anygay.com</td>\n",
       "      <td>0i0i0i0.com</td>\n",
       "    </tr>\n",
       "    <tr>\n",
       "      <th>3</th>\n",
       "      <td>0i0i0i0.com</td>\n",
       "      <td>0i0i0i0\\.com\\/QgKhd137\\.js</td>\n",
       "      <td>2</td>\n",
       "      <td>u1zga.letsporn.com</td>\n",
       "      <td>0i0i0i0.com</td>\n",
       "    </tr>\n",
       "    <tr>\n",
       "      <th>4</th>\n",
       "      <td>0i0i0i0.com</td>\n",
       "      <td>0i0i0i0\\.com\\/F3s5noc\\.js</td>\n",
       "      <td>2</td>\n",
       "      <td>a.fapcat.com</td>\n",
       "      <td>0i0i0i0.com</td>\n",
       "    </tr>\n",
       "  </tbody>\n",
       "</table>\n",
       "</div>"
      ],
      "text/plain": [
       "                                         domain  \\\n",
       "0  08bca1adcd937acee5c029a1cec0e4b9.edgekey.net   \n",
       "1  0d2aa2d5db16270946d663b492be0815.edgekey.net   \n",
       "2                                   0i0i0i0.com   \n",
       "3                                   0i0i0i0.com   \n",
       "4                                   0i0i0i0.com   \n",
       "\n",
       "                                                rule  fingerprint  \\\n",
       "0  08bca1adcd937acee5c029a1cec0e4b9\\.edgekey\\.net...            0   \n",
       "1  0d2aa2d5db16270946d663b492be0815\\.edgekey\\.net...            0   \n",
       "2                         0i0i0i0\\.com\\/QgKhd137\\.js            2   \n",
       "3                         0i0i0i0\\.com\\/QgKhd137\\.js            2   \n",
       "4                          0i0i0i0\\.com\\/F3s5noc\\.js            2   \n",
       "\n",
       "                   original                                      resolved  \n",
       "0  sli.simonandschuster.com  08bca1adcd937acee5c029a1cec0e4b9.edgekey.net  \n",
       "1         sli.timescall.com  0d2aa2d5db16270946d663b492be0815.edgekey.net  \n",
       "2          x9ner.anygay.com                                   0i0i0i0.com  \n",
       "3        u1zga.letsporn.com                                   0i0i0i0.com  \n",
       "4              a.fapcat.com                                   0i0i0i0.com  "
      ]
     },
     "execution_count": 7,
     "metadata": {},
     "output_type": "execute_result"
    }
   ],
   "source": [
    "df1.head()\n"
   ]
  },
  {
   "cell_type": "code",
   "execution_count": 8,
   "metadata": {},
   "outputs": [
    {
     "data": {
      "text/html": [
       "<div>\n",
       "<style scoped>\n",
       "    .dataframe tbody tr th:only-of-type {\n",
       "        vertical-align: middle;\n",
       "    }\n",
       "\n",
       "    .dataframe tbody tr th {\n",
       "        vertical-align: top;\n",
       "    }\n",
       "\n",
       "    .dataframe thead th {\n",
       "        text-align: right;\n",
       "    }\n",
       "</style>\n",
       "<table border=\"1\" class=\"dataframe\">\n",
       "  <thead>\n",
       "    <tr style=\"text-align: right;\">\n",
       "      <th></th>\n",
       "      <th>domain</th>\n",
       "      <th>rule</th>\n",
       "      <th>fingerprint</th>\n",
       "      <th>original</th>\n",
       "      <th>resolved</th>\n",
       "    </tr>\n",
       "  </thead>\n",
       "  <tbody>\n",
       "    <tr>\n",
       "      <th>0</th>\n",
       "      <td>.org</td>\n",
       "      <td>\\.org\\/widget\\/42788_1697572386\\.js</td>\n",
       "      <td>0</td>\n",
       "      <td>None</td>\n",
       "      <td>None</td>\n",
       "    </tr>\n",
       "    <tr>\n",
       "      <th>1</th>\n",
       "      <td>02d917pe-firstalert-prod-slotb.vercel.app</td>\n",
       "      <td>02d917pe-firstalert-prod-slotb\\.vercel\\.app\\/u...</td>\n",
       "      <td>0</td>\n",
       "      <td>None</td>\n",
       "      <td>None</td>\n",
       "    </tr>\n",
       "    <tr>\n",
       "      <th>2</th>\n",
       "      <td>02d917pe-firstalert-prod-slotb.vercel.app</td>\n",
       "      <td>02d917pe-firstalert-prod-slotb\\.vercel\\.app\\/u...</td>\n",
       "      <td>0</td>\n",
       "      <td>None</td>\n",
       "      <td>None</td>\n",
       "    </tr>\n",
       "    <tr>\n",
       "      <th>3</th>\n",
       "      <td>02d917pe-firstalert-prod-slotb.vercel.app</td>\n",
       "      <td>02d917pe-firstalert-prod-slotb\\.vercel\\.app\\/u...</td>\n",
       "      <td>0</td>\n",
       "      <td>None</td>\n",
       "      <td>None</td>\n",
       "    </tr>\n",
       "    <tr>\n",
       "      <th>4</th>\n",
       "      <td>02d917pe-firstalert-prod-slotb.vercel.app</td>\n",
       "      <td>02d917pe-firstalert-prod-slotb\\.vercel\\.app\\/u...</td>\n",
       "      <td>0</td>\n",
       "      <td>None</td>\n",
       "      <td>None</td>\n",
       "    </tr>\n",
       "  </tbody>\n",
       "</table>\n",
       "</div>"
      ],
      "text/plain": [
       "                                      domain  \\\n",
       "0                                       .org   \n",
       "1  02d917pe-firstalert-prod-slotb.vercel.app   \n",
       "2  02d917pe-firstalert-prod-slotb.vercel.app   \n",
       "3  02d917pe-firstalert-prod-slotb.vercel.app   \n",
       "4  02d917pe-firstalert-prod-slotb.vercel.app   \n",
       "\n",
       "                                                rule  fingerprint original  \\\n",
       "0                \\.org\\/widget\\/42788_1697572386\\.js            0     None   \n",
       "1  02d917pe-firstalert-prod-slotb\\.vercel\\.app\\/u...            0     None   \n",
       "2  02d917pe-firstalert-prod-slotb\\.vercel\\.app\\/u...            0     None   \n",
       "3  02d917pe-firstalert-prod-slotb\\.vercel\\.app\\/u...            0     None   \n",
       "4  02d917pe-firstalert-prod-slotb\\.vercel\\.app\\/u...            0     None   \n",
       "\n",
       "  resolved  \n",
       "0     None  \n",
       "1     None  \n",
       "2     None  \n",
       "3     None  \n",
       "4     None  "
      ]
     },
     "execution_count": 8,
     "metadata": {},
     "output_type": "execute_result"
    }
   ],
   "source": [
    "df2.head()\n"
   ]
  },
  {
   "cell_type": "code",
   "execution_count": 9,
   "metadata": {},
   "outputs": [],
   "source": [
    "# Save to CSV\n",
    "\n",
    "df1.to_csv('cnames.csv', index=False)\n",
    "df2.to_csv('non_cnames.csv', index=False)\n"
   ]
  },
  {
   "cell_type": "code",
   "execution_count": 10,
   "metadata": {},
   "outputs": [
    {
     "name": "stdout",
     "output_type": "stream",
     "text": [
      "Number of CNAME entries with fingerprint >= 2: 2465\n",
      "Number of non-CNAME entries with fingerprint >= 2: 19539\n",
      "Total entries with fingerprint >= 2: 22004\n"
     ]
    }
   ],
   "source": [
    "# Count entries with fingerprint >= 2   \n",
    "high_fingerprint_count_cnames = len(df1[df1['fingerprint'] >= 2])\n",
    "high_fingerprint_count_non_cnames = len(df2[df2['fingerprint'] >= 2])\n",
    "\n",
    "print(f\"Number of CNAME entries with fingerprint >= 2: {high_fingerprint_count_cnames}\")\n",
    "print(f\"Number of non-CNAME entries with fingerprint >= 2: {high_fingerprint_count_non_cnames}\")\n",
    "print(f\"Total entries with fingerprint >= 2: {high_fingerprint_count_cnames + high_fingerprint_count_non_cnames}\")\n"
   ]
  },
  {
   "cell_type": "code",
   "execution_count": 11,
   "metadata": {},
   "outputs": [],
   "source": [
    "# Get entries with fingerprint >= 2 and < 2\n",
    "high_fp = df1[df1['fingerprint'] >= 2]\n",
    "low_fp = df1[df1['fingerprint'] < 2]\n",
    "\n",
    "# Find the minimum count between the two groups to balance them\n",
    "min_count = min(len(high_fp), len(low_fp))\n",
    "\n",
    "# Sample equal numbers from each group\n",
    "balanced_high = high_fp.sample(n=min_count, random_state=42)\n",
    "balanced_low = low_fp.sample(n=min_count, random_state=42)\n",
    "\n",
    "# Combine and shuffle the balanced datasets\n",
    "balanced_df = pd.concat([balanced_high, balanced_low]).sample(frac=1, random_state=42)\n",
    "\n",
    "# Save to CSV\n",
    "balanced_df.to_csv('cnames_balanced.csv', index=False)\n"
   ]
  }
 ],
 "metadata": {
  "kernelspec": {
   "display_name": "dl_kernel",
   "language": "python",
   "name": "dl_kernel"
  },
  "language_info": {
   "codemirror_mode": {
    "name": "ipython",
    "version": 3
   },
   "file_extension": ".py",
   "mimetype": "text/x-python",
   "name": "python",
   "nbconvert_exporter": "python",
   "pygments_lexer": "ipython3",
   "version": "3.12.3"
  }
 },
 "nbformat": 4,
 "nbformat_minor": 2
}
