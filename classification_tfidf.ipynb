{
 "cells": [
  {
   "cell_type": "code",
   "execution_count": 9,
   "metadata": {},
   "outputs": [],
   "source": [
    "import pandas as pd\n",
    "from sklearn.feature_extraction.text import TfidfVectorizer\n",
    "from sklearn.pipeline import Pipeline\n",
    "\n",
    "# Read the CSV files\n",
    "df1 = pd.read_csv('cnames.csv')\n",
    "df2 = pd.read_csv('non_cnames.csv')\n",
    "\n"
   ]
  },
  {
   "cell_type": "markdown",
   "metadata": {},
   "source": [
    "Label with cname"
   ]
  },
  {
   "cell_type": "code",
   "execution_count": 10,
   "metadata": {},
   "outputs": [
    {
     "name": "stderr",
     "output_type": "stream",
     "text": [
      "<>:9: SyntaxWarning: invalid escape sequence '\\.'\n",
      "<>:10: SyntaxWarning: invalid escape sequence '\\/'\n",
      "<>:11: SyntaxWarning: invalid escape sequence '\\.'\n",
      "<>:12: SyntaxWarning: invalid escape sequence '\\/'\n",
      "<>:9: SyntaxWarning: invalid escape sequence '\\.'\n",
      "<>:10: SyntaxWarning: invalid escape sequence '\\/'\n",
      "<>:11: SyntaxWarning: invalid escape sequence '\\.'\n",
      "<>:12: SyntaxWarning: invalid escape sequence '\\/'\n",
      "C:\\Users\\Emma\\AppData\\Local\\Temp\\ipykernel_40396\\2944382997.py:9: SyntaxWarning: invalid escape sequence '\\.'\n",
      "  cnames_df['rule'] = cnames_df['rule'].str.replace('\\.', ' ')\n",
      "C:\\Users\\Emma\\AppData\\Local\\Temp\\ipykernel_40396\\2944382997.py:10: SyntaxWarning: invalid escape sequence '\\/'\n",
      "  cnames_df['rule'] = cnames_df['rule'].str.replace('\\/', ' ')\n",
      "C:\\Users\\Emma\\AppData\\Local\\Temp\\ipykernel_40396\\2944382997.py:11: SyntaxWarning: invalid escape sequence '\\.'\n",
      "  non_cnames_df['rule'] = non_cnames_df['rule'].str.replace('\\.', ' ')\n",
      "C:\\Users\\Emma\\AppData\\Local\\Temp\\ipykernel_40396\\2944382997.py:12: SyntaxWarning: invalid escape sequence '\\/'\n",
      "  non_cnames_df['rule'] = non_cnames_df['rule'].str.replace('\\/', ' ')\n"
     ]
    },
    {
     "name": "stdout",
     "output_type": "stream",
     "text": [
      "Number of samples per class: 85387\n"
     ]
    }
   ],
   "source": [
    "# Get the smaller dataset size to balance classes\n",
    "min_samples = min(len(df1), len(df2))\n",
    "\n",
    "# Sample equal number of records from each dataset\n",
    "cnames_df = df1.sample(n=min_samples, random_state=42)\n",
    "non_cnames_df = df2.sample(n=min_samples, random_state=42)\n",
    "\n",
    "# Remove regex characters from rules\n",
    "cnames_df['rule'] = cnames_df['rule'].str.replace('\\.', ' ')\n",
    "cnames_df['rule'] = cnames_df['rule'].str.replace('\\/', ' ')\n",
    "non_cnames_df['rule'] = non_cnames_df['rule'].str.replace('\\.', ' ')\n",
    "non_cnames_df['rule'] = non_cnames_df['rule'].str.replace('\\/', ' ')\n",
    "cnames_df['rule'] = cnames_df['rule'].str.replace('\\\\', ' ')\n",
    "non_cnames_df['rule'] = non_cnames_df['rule'].str.replace('\\\\', ' ')\n",
    "\n",
    "\n",
    "# Label the data\n",
    "cnames_df['label'] = 1\n",
    "non_cnames_df['label'] = 0\n",
    "\n",
    "print(f\"Number of samples per class: {min_samples}\")\n"
   ]
  },
  {
   "cell_type": "code",
   "execution_count": 11,
   "metadata": {},
   "outputs": [],
   "source": [
    "# Combine the dataframes\n",
    "df = pd.concat([cnames_df, non_cnames_df], ignore_index=True)\n",
    "\n",
    "# split test and train\n",
    "train_df = df.sample(frac=0.8, random_state=42)\n",
    "test_df = df.drop(train_df.index)\n"
   ]
  },
  {
   "cell_type": "code",
   "execution_count": 12,
   "metadata": {},
   "outputs": [
    {
     "name": "stdout",
     "output_type": "stream",
     "text": [
      "Accuracy: 0.95\n"
     ]
    }
   ],
   "source": [
    "from sklearn.linear_model import LogisticRegression\n",
    "\n",
    "# Create features from the rule column\n",
    "X = train_df['rule']\n",
    "y = train_df['label']\n",
    "\n",
    "# Create the pipeline with TF-IDF\n",
    "tfidf_pipeline = Pipeline([\n",
    "    ('tfidf', TfidfVectorizer(analyzer='char', ngram_range=(3,5)))\n",
    "])\n",
    "\n",
    "# Fit and transform the data\n",
    "X_tfidf = tfidf_pipeline.fit_transform(X)\n",
    "\n",
    "# train the model\n",
    "model = LogisticRegression()\n",
    "model.fit(X_tfidf, y)\n",
    "\n",
    "# test the model\n",
    "X_test = test_df['rule']\n",
    "y_test = test_df['label']\n",
    "X_test_tfidf = tfidf_pipeline.transform(X_test)\n",
    "predictions = model.predict(X_test_tfidf)\n",
    "accuracy = (predictions == y_test).mean()\n",
    "print(f\"Accuracy: {accuracy:.2f}\")\n"
   ]
  },
  {
   "cell_type": "code",
   "execution_count": 13,
   "metadata": {},
   "outputs": [
    {
     "name": "stdout",
     "output_type": "stream",
     "text": [
      "Precision: 0.95, Recall: 0.95, F1 Score: 0.95\n"
     ]
    }
   ],
   "source": [
    "from sklearn.metrics import precision_score, recall_score, f1_score\n",
    "\n",
    "# calculate precision, recall, and f1 score\n",
    "precision = precision_score(y_test, predictions)\n",
    "recall = recall_score(y_test, predictions)\n",
    "f1 = f1_score(y_test, predictions)\n",
    "print(f\"Precision: {precision:.2f}, Recall: {recall:.2f}, F1 Score: {f1:.2f}\")\n"
   ]
  },
  {
   "cell_type": "markdown",
   "metadata": {},
   "source": [
    "Label with fingerprint"
   ]
  },
  {
   "cell_type": "code",
   "execution_count": 14,
   "metadata": {},
   "outputs": [
    {
     "name": "stdout",
     "output_type": "stream",
     "text": [
      "\n",
      "Label counts in df1:\n",
      "Number of non-fingerprinting (0): 82922\n",
      "Number of fingerprinting (1): 2465\n",
      "\n",
      "Label counts in df2:\n",
      "Number of non-fingerprinting (0): 440512\n",
      "Number of fingerprinting (1): 19539\n"
     ]
    }
   ],
   "source": [
    "\n",
    "# Create new label based on fingerprint field\n",
    "df1['label'] = (df1['fingerprint'] >= 2).astype(int)\n",
    "df2['label'] = (df2['fingerprint'] >= 2).astype(int)\n",
    "\n",
    "# Count number of 0 and 1 labels in each dataframe\n",
    "print(\"\\nLabel counts in df1:\")\n",
    "print(f\"Number of non-fingerprinting (0): {len(df1[df1['label'] == 0])}\")\n",
    "print(f\"Number of fingerprinting (1): {len(df1[df1['label'] == 1])}\")\n",
    "\n",
    "print(\"\\nLabel counts in df2:\")\n",
    "print(f\"Number of non-fingerprinting (0): {len(df2[df2['label'] == 0])}\")\n",
    "print(f\"Number of fingerprinting (1): {len(df2[df2['label'] == 1])}\")\n",
    "\n"
   ]
  },
  {
   "cell_type": "code",
   "execution_count": 15,
   "metadata": {},
   "outputs": [],
   "source": [
    "# Combine the dataframes\n",
    "df_fgpr = pd.concat([df1, df2], ignore_index=True)\n",
    "\n",
    "# split test and train\n",
    "train_df2 = df_fgpr.sample(frac=0.8, random_state=42)\n",
    "test_df2 = df_fgpr.drop(train_df2.index)\n"
   ]
  },
  {
   "cell_type": "code",
   "execution_count": 18,
   "metadata": {},
   "outputs": [],
   "source": [
    "from sklearn.linear_model import LogisticRegression\n",
    "\n",
    "# Create features from the rule column\n",
    "X2 = train_df2['rule']\n",
    "y2 = train_df2['label']\n",
    "\n",
    "# Create the pipeline with TF-IDF\n",
    "tfidf_pipeline = Pipeline([\n",
    "    ('tfidf', TfidfVectorizer(analyzer='char', ngram_range=(3,5)))\n",
    "])\n",
    "\n",
    "# Fit and transform the data\n",
    "X2_tfidf = tfidf_pipeline.fit_transform(X2)\n",
    "\n",
    "# train the model\n",
    "model = LogisticRegression()\n",
    "model.fit(X2_tfidf, y2)\n",
    "\n",
    "# test the model\n",
    "X2_test = test_df2['rule']\n",
    "y2_test = test_df2['label']\n",
    "X2_test_tfidf = tfidf_pipeline.transform(X2_test)\n",
    "predictions = model.predict(X2_test_tfidf)"
   ]
  },
  {
   "cell_type": "code",
   "execution_count": 25,
   "metadata": {},
   "outputs": [
    {
     "data": {
      "image/png": "[encoded data removed]",
      "text/plain": [
       "<Figure size 800x600 with 2 Axes>"
      ]
     },
     "metadata": {},
     "output_type": "display_data"
    }
   ],
   "source": [
    "# create confusion matrix\n",
    "from sklearn.metrics import confusion_matrix\n",
    "import seaborn as sns\n",
    "import matplotlib.pyplot as plt\n",
    "\n",
    "cm = confusion_matrix(y2_test, predictions)\n",
    "\n",
    "plt.figure(figsize=(8,6))\n",
    "sns.heatmap(cm, annot=True, fmt='d', cmap='Blues')\n",
    "plt.title('Confusion Matrix')\n",
    "plt.ylabel('True Label')\n",
    "plt.xlabel('Predicted Label')\n",
    "plt.show()\n",
    "\n"
   ]
  },
  {
   "cell_type": "code",
   "execution_count": 22,
   "metadata": {},
   "outputs": [
    {
     "name": "stdout",
     "output_type": "stream",
     "text": [
      "Accuracy: 0.97, Precision: 0.82, Recall: 0.37, F1 Score: 0.51\n"
     ]
    }
   ],
   "source": [
    "# calculate accuracy, precision, recall, and f1 score\n",
    "from sklearn.metrics import accuracy_score, precision_score, recall_score, f1_score\n",
    "\n",
    "accuracy = accuracy_score(y2_test, predictions)\n",
    "precision = precision_score(y2_test, predictions)\n",
    "recall = recall_score(y2_test, predictions)\n",
    "f1 = f1_score(y2_test, predictions)\n",
    "print(f\"Accuracy: {accuracy:.2f}, Precision: {precision:.2f}, Recall: {recall:.2f}, F1 Score: {f1:.2f}\")\n",
    "\n"
   ]
  }
 ],
 "metadata": {
  "kernelspec": {
   "display_name": "dl_kernel",
   "language": "python",
   "name": "dl_kernel"
  },
  "language_info": {
   "codemirror_mode": {
    "name": "ipython",
    "version": 3
   },
   "file_extension": ".py",
   "mimetype": "text/x-python",
   "name": "python",
   "nbconvert_exporter": "python",
   "pygments_lexer": "ipython3",
   "version": "3.12.3"
  }
 },
 "nbformat": 4,
 "nbformat_minor": 2
}
